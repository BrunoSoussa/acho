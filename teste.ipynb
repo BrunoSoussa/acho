{
 "cells": [
  {
   "cell_type": "code",
   "execution_count": 22,
   "metadata": {},
   "outputs": [
    {
     "name": "stderr",
     "output_type": "stream",
     "text": [
      "You try to use a model that was created with version 3.3.1, however, your version is 2.7.0. This might cause unexpected behavior or errors. In that case, try to update to the latest version.\n",
      "\n",
      "\n",
      "\n"
     ]
    },
    {
     "name": "stdout",
     "output_type": "stream",
     "text": [
      "Frase mais similar: violões, teclados, microfones, pedais de efeito, suportes e acessórios como cordas e afinadores, voltados a músicos iniciantes e profissionais\n",
      "Similaridade: 0.9232\n"
     ]
    }
   ],
   "source": [
    "from sentence_transformers import SentenceTransformer, util\n",
    "\n",
    "# Carregar o modelo específico para português\n",
    "model = SentenceTransformer('SenhorDasMoscas/acho2-ptbr-e4-lr3e-05')\n",
    "\n",
    "# Banco de frases em português, agora incluindo as novas categorias de produtos\n",
    "frases = [\n",
    "    \"artigos esportivos como bolas, raquetes, acessórios para academia, roupas esportivas e equipamentos para esportes outdoor como escalada e ciclismo\",\n",
    "    \"artigos voltados para presentes e viagens incluindo malas guias turísticos lembranças kits de viagem itens personalizados cartões comemorativos e flores\",\n",
    "    \"balões, painéis decorativos, itens temáticos (casamento, aniversários), luminárias, bandeirolas, velas e acessórios para transformar ambientes para festas ou ocasiões especiais\",\n",
    "    \"bombons, barras de chocolate, trufas, doces gourmet, balas artesanais e kits de presente com opções para celebrações e aniversários\",\n",
    "    \"cadernos, lápis, canetas, mochilas escolares, itens de escritório como grampeadores e post-its, além de papéis especiais para trabalhos artísticos e acadêmicos\",\n",
    "    \"cafés premium, chás exóticos, refrigerantes, salgadinhos, sobremesas congeladas e alimentos prontos para consumo rápido em cafeterias ou food trucks\",\n",
    "    \"chaves de fenda, furadeiras, kits de reparos, ferramentas elétricas e manuais para construção, bricolagem ou manutenção doméstica\",\n",
    "    \"consoles de videogames, controles, headsets, cadeiras gamers e jogos para diferentes plataformas como PC, PlayStation e Xbox\",\n",
    "    \"cosméticos, perfumes, itens para skincare, produtos capilares e kits de autocuidado para diferentes tipos de pele e cabelo\",\n",
    "    \"câmeras DSLR, lentes, tripés, filtros, mochilas para equipamentos e acessórios para fotógrafos amadores e profissionais\",\n",
    "    \"filtros de óleo, pastilhas de freio, velas de ignição, acessórios para personalização automotiva e peças para reposição de veículos leves ou pesados\",\n",
    "    \"livros físicos, e-books, revistas, HQs, materiais educativos e guias técnicos para estudo ou entretenimento literário\",\n",
    "    \"móveis, utensílios domésticos, itens decorativos, produtos de limpeza e acessórios para organização e manutenção da casa\",\n",
    "    \"peixes frescos, frutos do mar, opções congeladas ou embaladas a vácuo e produtos gourmet como caviar e salmão defumado\",\n",
    "    \"produtos básicos como arroz, feijão, massas, itens de mercearia, snacks e alimentos congelados para o dia a dia ou situações emergenciais\",\n",
    "    \"produtos destinados a colecionadores como figuras de ação selos moedas quadrinhos raros e itens históricos. Comumente vendidos em lojas especializadas ou feiras temáticas\",\n",
    "    \"produtos para crianças, como bonecas, jogos de tabuleiro, brinquedos educativos, pelúcias e kits de arte que incentivam criatividade e aprendizado lúdico\",\n",
    "    \"produtos voltados ao público adulto, como brinquedos sexuais e jogos para adultos\",\n",
    "    \"pães frescos, pizzas pré-assadas, bolos, tortas e produtos artesanais para cafés ou sobremesas\",\n",
    "    \"rações, brinquedos para pets, camas, coleiras, roupas e acessórios para cães, gatos e outros animais de estimação\",\n",
    "    \"relógios de luxo, colares, anéis de ouro ou prata, pulseiras com pedras preciosas e acessórios sofisticados para eventos formais ou uso cotidiano\",\n",
    "    \"smartphones, acessórios como cases, fones de ouvido, smartwatches, carregadores portáteis e dispositivos inteligentes para casa (como assistentes virtuais e câmeras de segurança)\",\n",
    "    \"suplementos vitamínicos, produtos naturais, aparelhos de medição como termômetros e balanças, e itens para prática de atividades físicas ou relaxamento remedios\",\n",
    "    \"tintas, cimento, ferramentas para construção, materiais para reformas como pisos, azulejos e equipamentos de proteção individual\",\n",
    "    \"variedade de bebidas alcoólicas, como vinhos, cervejas artesanais, destilados (whisky, vodka) e kits para preparo de drinks. Ideal para festas e ocasiões especiais\",\n",
    "    \"vestuário para diferentes ocasiões, como roupas casuais, formais e esportivas, além de acessórios como bolsas, cintos e lenços\",\n",
    "    \"veículos automotores, incluindo carros e motos\",\n",
    "    \"violões, teclados, microfones, pedais de efeito, suportes e acessórios como cordas e afinadores, voltados a músicos iniciantes e profissionais\",\n",
    "    \"óculos de grau, de sol, armações, lentes de contato e acessórios como estojos e produtos de limpeza para lentes\"\n",
    "]\n",
    "\n",
    "# Codificar as frases para embeddings\n",
    "embeddings = model.encode(frases, convert_to_tensor=True)\n",
    "\n",
    "# Consulta para a busca semântica\n",
    "consulta = \"guitarra\"\n",
    "embedding_consulta = model.encode(consulta, convert_to_tensor=True)\n",
    "\n",
    "# Calcular similaridade\n",
    "similaridades = util.cos_sim(embedding_consulta, embeddings)\n",
    "\n",
    "# Encontrar a frase mais similar\n",
    "indice_mais_similar = similaridades.argmax()\n",
    "similaridade = similaridades[0][indice_mais_similar].item()  # Obter o valor da similaridade\n",
    "\n",
    "# Exibir a frase mais similar e a similaridade\n",
    "print(f\"Frase mais similar: {frases[indice_mais_similar]}\")\n",
    "print(f\"Similaridade: {similaridade:.4f}\")  # Exibe a similaridade com 4 casas decimais\n"
   ]
  }
 ],
 "metadata": {
  "kernelspec": {
   "display_name": "Python 3",
   "language": "python",
   "name": "python3"
  },
  "language_info": {
   "codemirror_mode": {
    "name": "ipython",
    "version": 3
   },
   "file_extension": ".py",
   "mimetype": "text/x-python",
   "name": "python",
   "nbconvert_exporter": "python",
   "pygments_lexer": "ipython3",
   "version": "3.11.5"
  }
 },
 "nbformat": 4,
 "nbformat_minor": 2
}
