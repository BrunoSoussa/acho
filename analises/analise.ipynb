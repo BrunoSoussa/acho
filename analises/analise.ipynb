{
 "cells": [
  {
   "cell_type": "markdown",
   "metadata": {},
   "source": []
  },
  {
   "cell_type": "markdown",
   "metadata": {},
   "source": [
    "# Leitura e tratamento de dados"
   ]
  },
  {
   "cell_type": "code",
   "execution_count": 7,
   "metadata": {},
   "outputs": [],
   "source": [
    "import pandas as pd\n",
    "data = pd.read_csv(r\"../analises/dataset_transformado.csv\")\n",
    "\n"
   ]
  },
  {
   "cell_type": "code",
   "execution_count": null,
   "metadata": {},
   "outputs": [
    {
     "name": "stdout",
     "output_type": "stream",
     "text": [
      "Index([34650], dtype='int64')\n"
     ]
    }
   ],
   "source": [
    "data.drop(data.loc[data[\"Label\"] == \"servico de dj\"].index, inplace=True)\n",
    "\n",
    "\n",
    "data.to_csv(r\"../analises/dataset_transformado.csv\", index=False)\n",
    "\n",
    "for i in data[\"Label\"].unique():\n",
    "    \n",
    "    print(i)"
   ]
  },
  {
   "cell_type": "markdown",
   "metadata": {},
   "source": [
    "substituição de nomes de classes "
   ]
  },
  {
   "cell_type": "code",
   "execution_count": 6,
   "metadata": {},
   "outputs": [
    {
     "name": "stdout",
     "output_type": "stream",
     "text": [
      "['paes' 'eletrodomesticos' 'doces e chocolates' 'carros'\n",
      " 'cama mesa e banho' 'servicos odontologicos' 'itens de colecao'\n",
      " 'flores e plantas' 'pizzaria' 'troca de oleo' 'joias e bijuterias'\n",
      " 'ingredientes para panificacao' 'agua' 'refrigeracao automotiva'\n",
      " 'decoracao para festas' 'gestao de projetos inovacao' 'arrumadinhos'\n",
      " 'produtos para equinos' 'construcao civil' 'barbearia' 'acougue'\n",
      " 'hamburgueres' 'moda e acessorios' 'acessorios para pets'\n",
      " 'design de produtos' 'hospedagem' 'sorveteria' 'agencia de marketing'\n",
      " 'salgados' 'servicos de seguros' 'servicos de advocacia' 'moveis'\n",
      " 'servicos cardiologicos' 'assistencia tecnica em celulares'\n",
      " 'servicos contabeis' 'eletronicos e gadgets'\n",
      " 'servicos de desenvolvimento de software' 'equipamentos para panificacao'\n",
      " 'papelaria e escritorio' 'ferramentas e equipamentos'\n",
      " 'produtos e servicos para energia solar' 'estetica automotiva'\n",
      " 'suplementos' 'brinquedos e jogos educativos' 'reforco escolar'\n",
      " 'emprestimos' 'servico de dj' 'livros e materiais literarios'\n",
      " 'autopecas para motos' 'lavagem de veiculos' 'auto escola'\n",
      " 'locacao veicular' 'grafica' 'itens para adultos como brinquedos sexuais'\n",
      " 'tintas' 'banho e tosa' 'trabalhos cientificos' 'celulares e smartphones'\n",
      " 'servicos veterinarios' 'baterias automotivas' 'solucoes em irrigacao'\n",
      " 'assistencia tecnica em computadores' 'turismo' 'peixaria e pescados'\n",
      " 'espetinhos' 'oculos e itens para oculos' 'consorcio' 'sushi'\n",
      " 'venda de imoveis' 'geleia' 'luminarias' 'instrumentos musicais'\n",
      " 'producao de tecidos de malha' 'curso de idiomas' 'beleza e autocuidado'\n",
      " 'gas' 'autopecas para carros' 'medicamentos' 'bebidas alcoolicas'\n",
      " 'materiais de construcao' 'motos' 'racao para pets' 'aluguel de imoveis'\n",
      " 'vidros' 'fotografia' 'hortifruti' 'crossfit' 'Arrumadinhos']\n"
     ]
    }
   ],
   "source": [
    "import pandas as pd\n",
    "\n",
    "# Carregar os dados\n",
    "data = pd.read_csv(r'../analises/dataset_transformado_not_lema.csv')\n",
    "\n",
    "# Dicionário de substituições para novas categorias\n",
    "substituicoes = {\n",
    "    \"energia solar\":\"produtos e serviços para energia solar\",\n",
    "    \n",
    "    \n",
    "}\n",
    "\n",
    "# Aplicar as substituições na coluna Text2\n",
    "data['Label'] = data['Label'].replace(substituicoes)\n",
    "\n",
    "# Verificar os valores únicos após a substituição\n",
    "print(data['Label'].unique())\n",
    "\n",
    "# Salvar a base de dados atualizada\n",
    "data.to_csv(r'../analises/dataset_transformado_not_lema.csv', index=False)\n"
   ]
  },
  {
   "cell_type": "markdown",
   "metadata": {},
   "source": [
    "padronizar dataset removendo espaços e deixando em lowercase"
   ]
  },
  {
   "cell_type": "code",
   "execution_count": 2,
   "metadata": {},
   "outputs": [
    {
     "ename": "KeyError",
     "evalue": "'Text1'",
     "output_type": "error",
     "traceback": [
      "\u001b[31m---------------------------------------------------------------------------\u001b[39m",
      "\u001b[31mKeyError\u001b[39m                                  Traceback (most recent call last)",
      "\u001b[36mFile \u001b[39m\u001b[32mc:\\Users\\devBr\\miniconda3\\Lib\\site-packages\\pandas\\core\\indexes\\base.py:3805\u001b[39m, in \u001b[36mIndex.get_loc\u001b[39m\u001b[34m(self, key)\u001b[39m\n\u001b[32m   3804\u001b[39m \u001b[38;5;28;01mtry\u001b[39;00m:\n\u001b[32m-> \u001b[39m\u001b[32m3805\u001b[39m     \u001b[38;5;28;01mreturn\u001b[39;00m \u001b[38;5;28;43mself\u001b[39;49m\u001b[43m.\u001b[49m\u001b[43m_engine\u001b[49m\u001b[43m.\u001b[49m\u001b[43mget_loc\u001b[49m\u001b[43m(\u001b[49m\u001b[43mcasted_key\u001b[49m\u001b[43m)\u001b[49m\n\u001b[32m   3806\u001b[39m \u001b[38;5;28;01mexcept\u001b[39;00m \u001b[38;5;167;01mKeyError\u001b[39;00m \u001b[38;5;28;01mas\u001b[39;00m err:\n",
      "\u001b[36mFile \u001b[39m\u001b[32mindex.pyx:167\u001b[39m, in \u001b[36mpandas._libs.index.IndexEngine.get_loc\u001b[39m\u001b[34m()\u001b[39m\n",
      "\u001b[36mFile \u001b[39m\u001b[32mindex.pyx:196\u001b[39m, in \u001b[36mpandas._libs.index.IndexEngine.get_loc\u001b[39m\u001b[34m()\u001b[39m\n",
      "\u001b[36mFile \u001b[39m\u001b[32mpandas\\\\_libs\\\\hashtable_class_helper.pxi:7081\u001b[39m, in \u001b[36mpandas._libs.hashtable.PyObjectHashTable.get_item\u001b[39m\u001b[34m()\u001b[39m\n",
      "\u001b[36mFile \u001b[39m\u001b[32mpandas\\\\_libs\\\\hashtable_class_helper.pxi:7089\u001b[39m, in \u001b[36mpandas._libs.hashtable.PyObjectHashTable.get_item\u001b[39m\u001b[34m()\u001b[39m\n",
      "\u001b[31mKeyError\u001b[39m: 'Text1'",
      "\nThe above exception was the direct cause of the following exception:\n",
      "\u001b[31mKeyError\u001b[39m                                  Traceback (most recent call last)",
      "\u001b[36mCell\u001b[39m\u001b[36m \u001b[39m\u001b[32mIn[2]\u001b[39m\u001b[32m, line 2\u001b[39m\n\u001b[32m      1\u001b[39m \u001b[38;5;66;03m# Remover espaços extras e padronizar para minúsculas\u001b[39;00m\n\u001b[32m----> \u001b[39m\u001b[32m2\u001b[39m data[\u001b[33m'\u001b[39m\u001b[33mText1\u001b[39m\u001b[33m'\u001b[39m] = \u001b[43mdata\u001b[49m\u001b[43m[\u001b[49m\u001b[33;43m'\u001b[39;49m\u001b[33;43mText1\u001b[39;49m\u001b[33;43m'\u001b[39;49m\u001b[43m]\u001b[49m.str.strip().str.lower()\n\u001b[32m      3\u001b[39m data[\u001b[33m'\u001b[39m\u001b[33mText2\u001b[39m\u001b[33m'\u001b[39m] = data[\u001b[33m'\u001b[39m\u001b[33mText2\u001b[39m\u001b[33m'\u001b[39m].str.strip().str.lower()\n\u001b[32m      4\u001b[39m data.to_csv(\u001b[33mr\u001b[39m\u001b[33m'\u001b[39m\u001b[33m../analises\u001b[39m\u001b[33m\\\u001b[39m\u001b[33mdataset_binario_short_category.csv\u001b[39m\u001b[33m'\u001b[39m, index=\u001b[38;5;28;01mFalse\u001b[39;00m)\n",
      "\u001b[36mFile \u001b[39m\u001b[32mc:\\Users\\devBr\\miniconda3\\Lib\\site-packages\\pandas\\core\\frame.py:4102\u001b[39m, in \u001b[36mDataFrame.__getitem__\u001b[39m\u001b[34m(self, key)\u001b[39m\n\u001b[32m   4100\u001b[39m \u001b[38;5;28;01mif\u001b[39;00m \u001b[38;5;28mself\u001b[39m.columns.nlevels > \u001b[32m1\u001b[39m:\n\u001b[32m   4101\u001b[39m     \u001b[38;5;28;01mreturn\u001b[39;00m \u001b[38;5;28mself\u001b[39m._getitem_multilevel(key)\n\u001b[32m-> \u001b[39m\u001b[32m4102\u001b[39m indexer = \u001b[38;5;28;43mself\u001b[39;49m\u001b[43m.\u001b[49m\u001b[43mcolumns\u001b[49m\u001b[43m.\u001b[49m\u001b[43mget_loc\u001b[49m\u001b[43m(\u001b[49m\u001b[43mkey\u001b[49m\u001b[43m)\u001b[49m\n\u001b[32m   4103\u001b[39m \u001b[38;5;28;01mif\u001b[39;00m is_integer(indexer):\n\u001b[32m   4104\u001b[39m     indexer = [indexer]\n",
      "\u001b[36mFile \u001b[39m\u001b[32mc:\\Users\\devBr\\miniconda3\\Lib\\site-packages\\pandas\\core\\indexes\\base.py:3812\u001b[39m, in \u001b[36mIndex.get_loc\u001b[39m\u001b[34m(self, key)\u001b[39m\n\u001b[32m   3807\u001b[39m     \u001b[38;5;28;01mif\u001b[39;00m \u001b[38;5;28misinstance\u001b[39m(casted_key, \u001b[38;5;28mslice\u001b[39m) \u001b[38;5;129;01mor\u001b[39;00m (\n\u001b[32m   3808\u001b[39m         \u001b[38;5;28misinstance\u001b[39m(casted_key, abc.Iterable)\n\u001b[32m   3809\u001b[39m         \u001b[38;5;129;01mand\u001b[39;00m \u001b[38;5;28many\u001b[39m(\u001b[38;5;28misinstance\u001b[39m(x, \u001b[38;5;28mslice\u001b[39m) \u001b[38;5;28;01mfor\u001b[39;00m x \u001b[38;5;129;01min\u001b[39;00m casted_key)\n\u001b[32m   3810\u001b[39m     ):\n\u001b[32m   3811\u001b[39m         \u001b[38;5;28;01mraise\u001b[39;00m InvalidIndexError(key)\n\u001b[32m-> \u001b[39m\u001b[32m3812\u001b[39m     \u001b[38;5;28;01mraise\u001b[39;00m \u001b[38;5;167;01mKeyError\u001b[39;00m(key) \u001b[38;5;28;01mfrom\u001b[39;00m \u001b[34;01merr\u001b[39;00m\n\u001b[32m   3813\u001b[39m \u001b[38;5;28;01mexcept\u001b[39;00m \u001b[38;5;167;01mTypeError\u001b[39;00m:\n\u001b[32m   3814\u001b[39m     \u001b[38;5;66;03m# If we have a listlike key, _check_indexing_error will raise\u001b[39;00m\n\u001b[32m   3815\u001b[39m     \u001b[38;5;66;03m#  InvalidIndexError. Otherwise we fall through and re-raise\u001b[39;00m\n\u001b[32m   3816\u001b[39m     \u001b[38;5;66;03m#  the TypeError.\u001b[39;00m\n\u001b[32m   3817\u001b[39m     \u001b[38;5;28mself\u001b[39m._check_indexing_error(key)\n",
      "\u001b[31mKeyError\u001b[39m: 'Text1'"
     ]
    }
   ],
   "source": [
    "# Remover espaços extras e padronizar para minúsculas\n",
    "data['Text1'] = data['Text1'].str.strip().str.lower()\n",
    "data['Text2'] = data['Text2'].str.strip().str.lower()\n",
    "data.to_csv(r'../analises\\dataset_binario_short_category.csv', index=False)"
   ]
  },
  {
   "cell_type": "markdown",
   "metadata": {},
   "source": [
    "lematização do dataset"
   ]
  },
  {
   "cell_type": "code",
   "execution_count": 10,
   "metadata": {},
   "outputs": [
    {
     "name": "stdout",
     "output_type": "stream",
     "text": [
      "Label\n",
      "suporte                                       548\n",
      "cozinha e utensilios                          459\n",
      "produtos e servicos para energia solar        437\n",
      "madeireira                                    433\n",
      "arrumadinhos                                  429\n",
      "produtos para pesca                           423\n",
      "producao de tecidos de malha                  415\n",
      "servicos contabeis                            405\n",
      "gestao de projetos inovacao                   378\n",
      "aplicativo de transporte moto                 349\n",
      "docinhos                                      348\n",
      "refrigeracao automotiva                       346\n",
      "climatizacao e refrigeracao de ambientes      345\n",
      "equipamentos para panificacao                 339\n",
      "ingredientes para panificacao                 338\n",
      "produtos de camping                           336\n",
      "bordado                                       334\n",
      "utilidades e limpeza                          334\n",
      "servicos musicais                             331\n",
      "descartaveis                                  330\n",
      "produtos naturais e organicos                 322\n",
      "massas                                        321\n",
      "eletronicos e gadgets                         321\n",
      "motos                                         320\n",
      "produtos para estetica automotiva             319\n",
      "pilates                                       318\n",
      "carros                                        315\n",
      "penteados e tratamento capilar                314\n",
      "corpo depilacao                               313\n",
      "barbearia                                     311\n",
      "doces e chocolates                            311\n",
      "embalagens                                    310\n",
      "moveis planejados                             309\n",
      "spa bemestar                                  309\n",
      "suplementos                                   309\n",
      "autopecas para motos                          308\n",
      "borracharia                                   307\n",
      "racao para pets                               307\n",
      "reforco escolar                               306\n",
      "solucoes em irrigacao                         306\n",
      "cama mesa e banho                             306\n",
      "assistencia tecnica em celulares              304\n",
      "curso de idiomas                              304\n",
      "paes                                          304\n",
      "banho e tosa                                  304\n",
      "sorveteria                                    304\n",
      "construcao civil                              303\n",
      "turismo                                       303\n",
      "estetica automotiva                           303\n",
      "espetinhos                                    303\n",
      "aplicativo de transporte carro                303\n",
      "flores e plantas                              303\n",
      "geleia                                        302\n",
      "emprestimos                                   302\n",
      "baterias automotivas                          302\n",
      "pizzaria                                      301\n",
      "acessorios para pets                          301\n",
      "produtos para equinos                         301\n",
      "trabalhos cientificos                         301\n",
      "agua                                          301\n",
      "papelaria e escritorio                        301\n",
      "materiais de construcao                       301\n",
      "joias e bijuterias                            301\n",
      "ferramentas e equipamentos                    301\n",
      "venda de imoveis                              301\n",
      "hortifruti                                    301\n",
      "itens de colecao                              300\n",
      "autopecas para carros                         300\n",
      "troca de oleo                                 300\n",
      "vidros                                        300\n",
      "locacao veicular                              300\n",
      "grafica                                       300\n",
      "servicos de desenvolvimento de software       300\n",
      "auto escola                                   300\n",
      "gas                                           300\n",
      "peixaria e pescados                           300\n",
      "beleza e autocuidado                          300\n",
      "moda e acessorios                             300\n",
      "luminarias                                    300\n",
      "oculos e itens para oculos                    300\n",
      "hospedagem                                    300\n",
      "agencia de marketing                          300\n",
      "brinquedos e jogos educativos                 300\n",
      "decoracao para festas                         300\n",
      "tintas                                        299\n",
      "aluguel de imoveis                            299\n",
      "servicos odontologicos                        299\n",
      "crossfit                                      299\n",
      "salgados                                      299\n",
      "manicure e pedicure e alongamento             299\n",
      "assistencia tecnica em computadores           299\n",
      "eletrodomesticos                              299\n",
      "servicos de seguros                           299\n",
      "celulares e smartphones                       298\n",
      "consorcio                                     298\n",
      "bebidas alcoolicas                            298\n",
      "instrumentos musicais                         298\n",
      "hamburgueres                                  297\n",
      "moveis                                        297\n",
      "livros e materiais literarios                 297\n",
      "itens para adultos como brinquedos sexuais    296\n",
      "medicamentos                                  296\n",
      "servicos cardiologicos                        295\n",
      "fotografia                                    295\n",
      "estetica facial maquiagem                     295\n",
      "acougue                                       294\n",
      "sushi                                         294\n",
      "servicos de advocacia                         293\n",
      "lavagem de veiculos                           292\n",
      "sobrancelhas micropigmentacao                 292\n",
      "servicos veterinarios                         286\n",
      "design de produtos                            282\n",
      "Name: count, dtype: int64\n"
     ]
    }
   ],
   "source": [
    "import pandas as pd\n",
    "import re\n",
    "from unidecode import unidecode\n",
    "\n",
    "def preprocess_text_safely(text):\n",
    "    try:\n",
    "        # Remover acentos\n",
    "        text = unidecode(text)\n",
    "        # Remover caracteres especiais, mantendo apenas letras, números e espaços\n",
    "        text = re.sub(r'[^a-zA-Z0-9\\s]', '', text)\n",
    "        # Converter para minúsculo\n",
    "        text = text.lower()\n",
    "        # Remover múltiplos espaços e espaços no início/fim\n",
    "        text = re.sub(r'\\s+', ' ', text).strip()\n",
    "        \n",
    "        # Se o texto ficar vazio, retorna None\n",
    "        return text if text else None\n",
    "    except Exception:\n",
    "        return None\n",
    "\n",
    "# Carregar dataset\n",
    "df = pd.read_csv(r\"../analises/dataset_transformado.csv\")\n",
    "\n",
    "# Converter colunas para string e aplicar pré-processamento\n",
    "df['Texto'] = df['Texto'].astype(str).apply(preprocess_text_safely)\n",
    "df['Label'] = df['Label'].astype(str).apply(preprocess_text_safely)\n",
    "\n",
    "# Remover linhas onde Texto ou Label ficaram como None\n",
    "df.dropna(subset=['Texto', 'Label'], inplace=True)\n",
    "df.dropna(subset=[\"Label\"], inplace=True)\n",
    "\n",
    "# Remover duplicatas\n",
    "df.drop_duplicates(inplace=True)\n",
    "\n",
    "# Contar quantos registros por label\n",
    "label_counts = df['Label'].value_counts()\n",
    "print(label_counts)  # Apenas para visualizar no console\n",
    "\n",
    "# Resetar índices após remoções\n",
    "df.reset_index(drop=True, inplace=True)\n",
    "\n",
    "# Salvar o novo dataset\n",
    "df.to_csv(r\"../analises/dataset_transformado.csv\", index=False)\n"
   ]
  },
  {
   "cell_type": "code",
   "execution_count": null,
   "metadata": {},
   "outputs": [
    {
     "name": "stdout",
     "output_type": "stream",
     "text": [
      "Label\n",
      "equipamentos para panificacao    339\n",
      "ingredientes para panificacao    338\n",
      "motos                            320\n",
      "eletronicos e gadgets            315\n",
      "carros                           315\n",
      "                                ... \n",
      "celulares e smartphones          292\n",
      "servicos veterinarios            286\n",
      "design de produtos               282\n",
      "eletronicos                        8\n",
      "emprestimos                        2\n",
      "Name: count, Length: 75, dtype: int64\n"
     ]
    }
   ],
   "source": []
  },
  {
   "cell_type": "markdown",
   "metadata": {},
   "source": [
    "embaralhando dataset"
   ]
  },
  {
   "cell_type": "code",
   "execution_count": 9,
   "metadata": {},
   "outputs": [],
   "source": [
    "\n",
    "data = pd.read_csv(r\"../analises/dataset_transformado.csv\")\n",
    "df_embaralhado = data.sample(frac=1, random_state=42).reset_index(drop=True)\n",
    "df_embaralhado.to_csv(r\"../analises/dataset_transformado.csv\", index=False)"
   ]
  },
  {
   "cell_type": "markdown",
   "metadata": {},
   "source": [
    "# Analise"
   ]
  },
  {
   "cell_type": "code",
   "execution_count": 686,
   "metadata": {},
   "outputs": [
    {
     "data": {
      "text/html": [
       "<div>\n",
       "<style scoped>\n",
       "    .dataframe tbody tr th:only-of-type {\n",
       "        vertical-align: middle;\n",
       "    }\n",
       "\n",
       "    .dataframe tbody tr th {\n",
       "        vertical-align: top;\n",
       "    }\n",
       "\n",
       "    .dataframe thead th {\n",
       "        text-align: right;\n",
       "    }\n",
       "</style>\n",
       "<table border=\"1\" class=\"dataframe\">\n",
       "  <thead>\n",
       "    <tr style=\"text-align: right;\">\n",
       "      <th></th>\n",
       "      <th>Text1</th>\n",
       "      <th>Text2</th>\n",
       "      <th>Label</th>\n",
       "    </tr>\n",
       "  </thead>\n",
       "  <tbody>\n",
       "    <tr>\n",
       "      <th>0</th>\n",
       "      <td>pitbull</td>\n",
       "      <td>alimentação e bebidas</td>\n",
       "      <td>0</td>\n",
       "    </tr>\n",
       "    <tr>\n",
       "      <th>6867</th>\n",
       "      <td>Procurando um cinto de couro masculino</td>\n",
       "      <td>carros motos peças e acessorios para veículos</td>\n",
       "      <td>0</td>\n",
       "    </tr>\n",
       "    <tr>\n",
       "      <th>6866</th>\n",
       "      <td>regador</td>\n",
       "      <td>alimentação e bebidas</td>\n",
       "      <td>0</td>\n",
       "    </tr>\n",
       "    <tr>\n",
       "      <th>6865</th>\n",
       "      <td>Ração para cães Pedigree</td>\n",
       "      <td>casa e decoração</td>\n",
       "      <td>0</td>\n",
       "    </tr>\n",
       "    <tr>\n",
       "      <th>6863</th>\n",
       "      <td>Câmera fotográfica</td>\n",
       "      <td>alimentação e bebidas</td>\n",
       "      <td>0</td>\n",
       "    </tr>\n",
       "  </tbody>\n",
       "</table>\n",
       "</div>"
      ],
      "text/plain": [
       "                                       Text1  \\\n",
       "0                                    pitbull   \n",
       "6867  Procurando um cinto de couro masculino   \n",
       "6866                                 regador   \n",
       "6865                Ração para cães Pedigree   \n",
       "6863                      Câmera fotográfica   \n",
       "\n",
       "                                              Text2  Label  \n",
       "0                             alimentação e bebidas      0  \n",
       "6867  carros motos peças e acessorios para veículos      0  \n",
       "6866                          alimentação e bebidas      0  \n",
       "6865                               casa e decoração      0  \n",
       "6863                          alimentação e bebidas      0  "
      ]
     },
     "execution_count": 686,
     "metadata": {},
     "output_type": "execute_result"
    }
   ],
   "source": [
    "data.sort_values(by=['Label'], inplace=True)\n",
    "data.head()"
   ]
  },
  {
   "cell_type": "code",
   "execution_count": 687,
   "metadata": {},
   "outputs": [
    {
     "name": "stdout",
     "output_type": "stream",
     "text": [
      "count    12379.000000\n",
      "mean         0.502464\n",
      "std          0.500014\n",
      "min          0.000000\n",
      "25%          0.000000\n",
      "50%          1.000000\n",
      "75%          1.000000\n",
      "max          1.000000\n",
      "Name: Label, dtype: float64\n"
     ]
    }
   ],
   "source": [
    "# Estatísticas descritivas da coluna 'Label'\n",
    "print(data['Label'].describe())\n"
   ]
  },
  {
   "cell_type": "markdown",
   "metadata": {},
   "source": [
    "Distribuição por rotulo"
   ]
  },
  {
   "cell_type": "markdown",
   "metadata": {},
   "source": [
    "Distribuição por classe "
   ]
  },
  {
   "cell_type": "code",
   "execution_count": 122,
   "metadata": {},
   "outputs": [],
   "source": [
    "import pandas as pd\n",
    "\n",
    "unique_text2 = data['Text2'].unique()\n"
   ]
  },
  {
   "cell_type": "code",
   "execution_count": 15,
   "metadata": {},
   "outputs": [
    {
     "name": "stdout",
     "output_type": "stream",
     "text": [
      "Empty DataFrame\n",
      "Columns: [Texto, Label]\n",
      "Index: []\n",
      "Empty DataFrame\n",
      "Columns: [Texto, Label]\n",
      "Index: []\n"
     ]
    }
   ],
   "source": [
    "# Verificar se há valores não-string na coluna Texto\n",
    "print(df[~df[\"Texto\"].apply(lambda x: isinstance(x, str))])\n",
    "\n",
    "# Verificar se há valores não-string na coluna Label\n",
    "print(df[~df[\"Label\"].apply(lambda x: isinstance(x, str))])\n"
   ]
  },
  {
   "cell_type": "code",
   "execution_count": 6,
   "metadata": {},
   "outputs": [
    {
     "name": "stdout",
     "output_type": "stream",
     "text": [
      "                                            Texto\n",
      "Label                                            \n",
      "acessorios para pets                          301\n",
      "acougue                                       294\n",
      "agencia de marketing                          300\n",
      "agua                                          301\n",
      "aluguel de imoveis                            299\n",
      "aplicativo de transporte carro                303\n",
      "aplicativo de transporte moto                 349\n",
      "arrumadinhos                                  429\n",
      "assistencia tecnica em celulares              304\n",
      "assistencia tecnica em computadores           299\n",
      "auto escola                                   300\n",
      "autopecas para carros                         300\n",
      "autopecas para motos                          308\n",
      "banho e tosa                                  304\n",
      "barbearia                                     311\n",
      "baterias automotivas                          302\n",
      "bebidas alcoolicas                            298\n",
      "beleza e autocuidado                          300\n",
      "bordado                                       334\n",
      "borracharia                                   307\n",
      "brinquedos e jogos educativos                 300\n",
      "cama mesa e banho                             306\n",
      "carros                                        315\n",
      "celulares e smartphones                       298\n",
      "climatizacao e refrigeracao de ambientes      344\n",
      "consorcio                                     298\n",
      "construcao civil                              303\n",
      "corpo depilacao                               313\n",
      "cozinha e utensilios                          459\n",
      "crossfit                                      299\n",
      "curso de idiomas                              304\n",
      "decoracao para festas                         300\n",
      "descartaveis                                  330\n",
      "design de produtos                            282\n",
      "doces e chocolates                            311\n",
      "docinhos                                      348\n",
      "eletrodomesticos                              299\n",
      "eletronicos e gadgets                         321\n",
      "embalagens                                    310\n",
      "emprestimos                                   302\n",
      "equipamentos para panificacao                 339\n",
      "espetinhos                                    303\n",
      "estetica automotiva                           303\n",
      "estetica facial maquiagem                     295\n",
      "ferramentas e equipamentos                    301\n",
      "flores e plantas                              303\n",
      "fotografia                                    295\n",
      "gas                                           300\n",
      "geleia                                        302\n",
      "gestao de projetos inovacao                   378\n",
      "grafica                                       300\n",
      "hamburgueres                                  297\n",
      "hortifruti                                    301\n",
      "hospedagem                                    300\n",
      "ingredientes para panificacao                 338\n",
      "instrumentos musicais                         298\n",
      "itens de colecao                              300\n",
      "itens para adultos como brinquedos sexuais    296\n",
      "joias e bijuterias                            301\n",
      "lavagem de veiculos                           292\n",
      "livros e materiais literarios                 297\n",
      "locacao veicular                              300\n",
      "luminarias                                    300\n",
      "madeireira                                    433\n",
      "manicure e pedicure e alongamento             299\n",
      "massas                                        321\n",
      "materiais de construcao                       301\n",
      "medicamentos                                  296\n",
      "moda e acessorios                             300\n",
      "motos                                         320\n",
      "moveis                                        297\n",
      "moveis planejados                             309\n",
      "oculos e itens para oculos                    300\n",
      "paes                                          304\n",
      "papelaria e escritorio                        301\n",
      "peixaria e pescados                           300\n",
      "penteados e tratamento capilar                314\n",
      "pilates                                       318\n",
      "pizzaria                                      301\n",
      "producao de tecidos de malha                  415\n",
      "produtos de camping                           336\n",
      "produtos e servicos para energia solar        437\n",
      "produtos naturais e organicos                 322\n",
      "produtos para equinos                         301\n",
      "produtos para estetica automotiva             319\n",
      "produtos para pesca                           423\n",
      "racao para pets                               307\n",
      "reforco escolar                               306\n",
      "refrigeracao automotiva                       300\n",
      "salgados                                      299\n",
      "servicos cardiologicos                        295\n",
      "servicos contabeis                            405\n",
      "servicos de advocacia                         293\n",
      "servicos de desenvolvimento de software       300\n",
      "servicos de seguros                           299\n",
      "servicos musicais                             331\n",
      "servicos odontologicos                        299\n",
      "servicos veterinarios                         286\n",
      "sobrancelhas micropigmentacao                 292\n",
      "solucoes em irrigacao                         306\n",
      "sorveteria                                    304\n",
      "spa bemestar                                  309\n",
      "suplementos                                   309\n",
      "suporte                                       548\n",
      "sushi                                         294\n",
      "tintas                                        299\n",
      "trabalhos cientificos                         301\n",
      "troca de oleo                                 300\n",
      "turismo                                       303\n",
      "utilidades e limpeza                          334\n",
      "venda de imoveis                              301\n",
      "vidros                                        300\n"
     ]
    }
   ],
   "source": [
    "import pandas as pd\n",
    "data = pd.read_csv(r\"../analises/dataset_transformado.csv\")\n",
    "\n",
    "\n",
    "label_counts_filtered = data.drop_duplicates().groupby('Label').count()\n",
    "# Configurações para exibir todas as linhas e colunas\n",
    "pd.set_option('display.max_rows', None)  # Exibe todas as linhas\n",
    "pd.set_option('display.max_columns', None)  # Exibe todas as colunas\n",
    "\n",
    "# Agora é possível visualizar o dataframe completo\n",
    "print(label_counts_filtered)\n"
   ]
  },
  {
   "cell_type": "code",
   "execution_count": null,
   "metadata": {},
   "outputs": [],
   "source": []
  },
  {
   "cell_type": "code",
   "execution_count": 22,
   "metadata": {},
   "outputs": [
    {
     "name": "stdout",
     "output_type": "stream",
     "text": [
      "Linhas removidas com sucesso. Novo arquivo salvo como dataset_transformado_not_lema_filtrado.csv\n"
     ]
    }
   ],
   "source": [
    "import pandas as pd\n",
    "\n",
    "# Carregar o dataset\n",
    "data = pd.read_csv(r\"../analises/dataset_transformado_not_lema.csv\")\n",
    "\n",
    "# Remover todas as linhas onde o Label seja \"servico de reparo de eletronicos\"\n",
    "data_filtered = data[data['Label'] != \"produtos para pets e animais domesticos\"]\n",
    "\n",
    "# Salvar o dataset atualizado\n",
    "data_filtered.to_csv(r\"../analises/dataset_transformado_not_lema.csv\", index=False)\n",
    "\n",
    "print(\"Linhas removidas com sucesso. Novo arquivo salvo como dataset_transformado_not_lema_filtrado.csv\")\n"
   ]
  },
  {
   "cell_type": "code",
   "execution_count": 226,
   "metadata": {},
   "outputs": [
    {
     "name": "stdout",
     "output_type": "stream",
     "text": [
      "Dataset transformado com sucesso!\n"
     ]
    }
   ],
   "source": [
    "import pandas as pd\n",
    "\n",
    "# Carregar o dataset\n",
    "file_path = r'..\\analises\\dataset_binario_short_category_balanced_lema.csv' \n",
    "df = pd.read_csv(file_path)\n",
    "\n",
    "# Filtrar apenas as linhas com Label = 1.0\n",
    "df_filtrado = df[df['Label'] == 1.0]\n",
    "\n",
    "# Criar novo dataset com formato desejado\n",
    "df_transformado = df_filtrado[['Text1', 'Text2']]\n",
    "df_transformado.columns = ['Texto', 'Label']\n",
    "\n",
    "# Salvar como novo arquivo CSV\n",
    "df_transformado.to_csv('dataset_transformado_not_lema.csv', index=False)\n",
    "\n",
    "print(\"Dataset transformado com sucesso!\")\n"
   ]
  },
  {
   "cell_type": "code",
   "execution_count": 21,
   "metadata": {},
   "outputs": [
    {
     "name": "stdout",
     "output_type": "stream",
     "text": [
      "PDF gerado com sucesso: relacao_categorias_10itens.pdf\n"
     ]
    }
   ],
   "source": [
    "import pandas as pd\n",
    "from reportlab.lib.pagesizes import A4\n",
    "from reportlab.pdfgen import canvas\n",
    "from reportlab.lib import colors\n",
    "from reportlab.platypus import SimpleDocTemplate, Table, TableStyle, Paragraph, Spacer\n",
    "from reportlab.lib.styles import getSampleStyleSheet\n",
    "\n",
    "# Carregar o dataset\n",
    "data = pd.read_csv(r\"../analises\\dataset_transformado_not_lema.csv\")\n",
    "\n",
    "# Selecionar os primeiros 10 itens por categoria\n",
    "categoria_itens = data.groupby('Label').head(20)\n",
    "\n",
    "# Criar um dicionário com listas de frases por categoria\n",
    "categorias = {}\n",
    "for label, group in categoria_itens.groupby('Label'):\n",
    "    categorias[label] = group['Texto'].tolist()\n",
    "\n",
    "# Criar PDF\n",
    "output_file = \"relacao_categorias_10itens.pdf\"\n",
    "pdf = SimpleDocTemplate(output_file, pagesize=A4)\n",
    "elements = []\n",
    "styles = getSampleStyleSheet()\n",
    "\n",
    "# Adicionar Título\n",
    "title = Paragraph(\"Relação de Categorias e Frases (20 por Categoria)\", styles['Title'])\n",
    "elements.append(title)\n",
    "elements.append(Spacer(1, 20))\n",
    "\n",
    "# Adicionar Tabela de Categorias e Frases\n",
    "for categoria, itens in categorias.items():\n",
    "    elements.append(Paragraph(f\"<b>{categoria}</b>\", styles['Heading2']))\n",
    "    elements.append(Spacer(1, 20))\n",
    "\n",
    "    tabela_data = [[f\"{i+1}. {frase}\"] for i, frase in enumerate(itens)]\n",
    "    tabela = Table(tabela_data)\n",
    "    \n",
    "    tabela.setStyle(TableStyle([\n",
    "        ('BACKGROUND', (0, 0), (-1, 0), colors.grey),\n",
    "        ('TEXTCOLOR', (0, 0), (-1, -1), colors.black),\n",
    "        ('ALIGN', (0, 0), (-1, -1), 'LEFT'),\n",
    "        ('FONTNAME', (0, 0), (-1, -1), 'Helvetica'),\n",
    "        ('BOTTOMPADDING', (0, 0), (-1, -1), 6),\n",
    "        ('BACKGROUND', (0, 0), (-1, -1), colors.whitesmoke),\n",
    "    ]))\n",
    "    \n",
    "    elements.append(tabela)\n",
    "    elements.append(Spacer(1, 20))  # Espaço entre categorias\n",
    "\n",
    "# Construir PDF\n",
    "pdf.build(elements)\n",
    "\n",
    "print(f\"PDF gerado com sucesso: {output_file}\")\n"
   ]
  },
  {
   "cell_type": "code",
   "execution_count": 38,
   "metadata": {},
   "outputs": [
    {
     "data": {
      "text/plain": [
       "Texto    56\n",
       "dtype: int64"
      ]
     },
     "execution_count": 38,
     "metadata": {},
     "output_type": "execute_result"
    }
   ],
   "source": [
    "data = pd.read_csv(r\"../analises/dataset_transformado_not_lema.csv\")\n",
    "data.groupby('Label').nunique().count()"
   ]
  },
  {
   "cell_type": "code",
   "execution_count": 1,
   "metadata": {},
   "outputs": [
    {
     "ename": "Exception",
     "evalue": "Erro ao baixar o banco: 401",
     "output_type": "error",
     "traceback": [
      "\u001b[1;31m---------------------------------------------------------------------------\u001b[0m",
      "\u001b[1;31mException\u001b[0m                                 Traceback (most recent call last)",
      "Cell \u001b[1;32mIn[1], line 52\u001b[0m\n\u001b[0;32m     49\u001b[0m     conn\u001b[38;5;241m.\u001b[39mclose()\n\u001b[0;32m     50\u001b[0m     \u001b[38;5;28mprint\u001b[39m(\u001b[38;5;124m\"\u001b[39m\u001b[38;5;124mExportação concluída.\u001b[39m\u001b[38;5;124m\"\u001b[39m)\n\u001b[1;32m---> 52\u001b[0m \u001b[43mdownload_and_overwrite_db\u001b[49m\u001b[43m(\u001b[49m\u001b[43murl\u001b[49m\u001b[43m,\u001b[49m\u001b[43m \u001b[49m\u001b[43mdb_path\u001b[49m\u001b[43m)\u001b[49m\n\u001b[0;32m     54\u001b[0m \u001b[38;5;66;03m# Exportar para CSV\u001b[39;00m\n\u001b[0;32m     55\u001b[0m export_db_to_csv(db_path)\n",
      "Cell \u001b[1;32mIn[1], line 21\u001b[0m, in \u001b[0;36mdownload_and_overwrite_db\u001b[1;34m(url, output_path)\u001b[0m\n\u001b[0;32m     19\u001b[0m     \u001b[38;5;28mprint\u001b[39m(\u001b[38;5;124mf\u001b[39m\u001b[38;5;124m\"\u001b[39m\u001b[38;5;124mBanco de dados atualizado e salvo em: \u001b[39m\u001b[38;5;132;01m{\u001b[39;00moutput_path\u001b[38;5;132;01m}\u001b[39;00m\u001b[38;5;124m\"\u001b[39m)\n\u001b[0;32m     20\u001b[0m \u001b[38;5;28;01melse\u001b[39;00m:\n\u001b[1;32m---> 21\u001b[0m     \u001b[38;5;28;01mraise\u001b[39;00m \u001b[38;5;167;01mException\u001b[39;00m(\u001b[38;5;124mf\u001b[39m\u001b[38;5;124m\"\u001b[39m\u001b[38;5;124mErro ao baixar o banco: \u001b[39m\u001b[38;5;132;01m{\u001b[39;00mresponse\u001b[38;5;241m.\u001b[39mstatus_code\u001b[38;5;132;01m}\u001b[39;00m\u001b[38;5;124m\"\u001b[39m)\n",
      "\u001b[1;31mException\u001b[0m: Erro ao baixar o banco: 401"
     ]
    }
   ],
   "source": [
    "import requests\n",
    "import sqlite3\n",
    "import pandas as pd\n",
    "\n",
    "# URL do banco de dados\n",
    "url = \"https://acho-ia.jm2.tec.br/download_db\"\n",
    "\n",
    "# Caminho onde o banco será salvo\n",
    "db_path = \"downloaded_db.sqlite\"\n",
    "\n",
    "def download_and_overwrite_db(url, output_path):\n",
    "    \"\"\"\n",
    "    Faz o download do banco de dados e sobrescreve o arquivo existente.\n",
    "    \"\"\"\n",
    "    response = requests.get(url)\n",
    "    if response.status_code == 200:\n",
    "        with open(output_path, \"wb\") as file:\n",
    "            file.write(response.content)\n",
    "        print(f\"Banco de dados atualizado e salvo em: {output_path}\")\n",
    "    else:\n",
    "        raise Exception(f\"Erro ao baixar o banco: {response.status_code}\")\n",
    "\n",
    "def export_db_to_csv(db_path, output_folder=\"csv_exports\"):\n",
    "    \"\"\"\n",
    "    Exporta todas as tabelas do banco de dados SQLite para arquivos CSV.\n",
    "    \"\"\"\n",
    "    conn = sqlite3.connect(db_path)\n",
    "    cursor = conn.cursor()\n",
    "    \n",
    "    # Criar pasta de saída se necessário\n",
    "    import os\n",
    "    if not os.path.exists(output_folder):\n",
    "        os.makedirs(output_folder)\n",
    "\n",
    "    # Listar tabelas no banco\n",
    "    cursor.execute(\"SELECT name FROM sqlite_master WHERE type='table';\")\n",
    "    tables = cursor.fetchall()\n",
    "\n",
    "    if tables:\n",
    "        print(\"Exportando tabelas para CSV...\")\n",
    "        for table in tables:\n",
    "            table_name = table[0]\n",
    "            print(table_name)\n",
    "            df = pd.read_sql_query(f\"SELECT query,category FROM query_response\", conn)\n",
    "            csv_file = f\"{output_folder}/{table_name}.csv\"\n",
    "            df.to_csv(csv_file, index=False, encoding='utf-8')\n",
    "            print(f\"Tabela {table_name} exportada para {csv_file}\")\n",
    "\n",
    "    conn.close()\n",
    "    print(\"Exportação concluída.\")\n",
    "\n",
    "download_and_overwrite_db(url, db_path)\n",
    "\n",
    "# Exportar para CSV\n",
    "export_db_to_csv(db_path)\n"
   ]
  },
  {
   "cell_type": "code",
   "execution_count": 4,
   "metadata": {},
   "outputs": [
    {
     "name": "stdout",
     "output_type": "stream",
     "text": [
      "   id                 query  degree_of_certainty    category category_id  \\\n",
      "0   1    jogo de cartas uno                 1.00  Brinquedos           3   \n",
      "1   2  quero um camaro novo                 0.94    Peixaria          25   \n",
      "2   3  quero um camaro 2008                 1.00      Carros          13   \n",
      "3   4       quero um prisma                 0.06  Fotografia          18   \n",
      "4   5  quero um prisma 2006                 1.00      Carros          13   \n",
      "5   6        quero um peixe                 1.00    Peixaria          25   \n",
      "\n",
      "            created_at  \n",
      "0  2025-01-24 18:44:05  \n",
      "1  2025-01-24 18:44:32  \n",
      "2  2025-01-24 18:44:45  \n",
      "3  2025-01-24 18:44:58  \n",
      "4  2025-01-24 18:45:08  \n",
      "5  2025-01-24 18:46:44  \n"
     ]
    }
   ],
   "source": [
    "import sqlite3\n",
    "import pandas as pd\n",
    "import json\n",
    "\n",
    "\n",
    "db_path = r\"downloaded_db.sqlite\"\n",
    "conn = sqlite3.connect(db_path)\n",
    "df = pd.read_sql(\"SELECT * FROM query_response\", conn)\n",
    "\n",
    "conn.close()\n",
    "print(df)\n"
   ]
  },
  {
   "cell_type": "code",
   "execution_count": 9,
   "metadata": {},
   "outputs": [
    {
     "name": "stdout",
     "output_type": "stream",
     "text": [
      "Empty DataFrame\n",
      "Columns: [Texto, Label]\n",
      "Index: []\n",
      "Total de labels vazios: 0\n"
     ]
    }
   ],
   "source": [
    "# Pega as linhas onde Label está vazio, só espaço, ou NaN\n",
    "mask_vazias = df['Label'].isna() | df['Label'].str.strip().eq('')\n",
    "\n",
    "df_vazias = df[mask_vazias]\n",
    "\n",
    "print(df_vazias)\n",
    "print(\"Total de labels vazios:\", df_vazias.shape[0])\n"
   ]
  }
 ],
 "metadata": {
  "kernelspec": {
   "display_name": "base",
   "language": "python",
   "name": "python3"
  },
  "language_info": {
   "codemirror_mode": {
    "name": "ipython",
    "version": 3
   },
   "file_extension": ".py",
   "mimetype": "text/x-python",
   "name": "python",
   "nbconvert_exporter": "python",
   "pygments_lexer": "ipython3",
   "version": "3.12.9"
  }
 },
 "nbformat": 4,
 "nbformat_minor": 2
}
